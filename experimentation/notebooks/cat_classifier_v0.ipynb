{
 "cells": [
  {
   "cell_type": "markdown",
   "id": "e341657b-f481-46e7-ad92-c82f46ebe9e8",
   "metadata": {},
   "source": [
    "# Train cat classifier v0"
   ]
  },
  {
   "cell_type": "code",
   "execution_count": 33,
   "id": "def49b7b-ef83-4881-ac1b-ee94956a75c7",
   "metadata": {},
   "outputs": [],
   "source": [
    "import sys\n",
    "import os\n",
    "from matplotlib import pyplot\n",
    "from keras.utils import to_categorical\n",
    "from keras.applications.vgg16 import VGG16\n",
    "from keras.models import Model\n",
    "from keras.layers import Dense\n",
    "from keras.layers import Flatten\n",
    "from keras.optimizers import SGD\n",
    "from keras.models import load_model\n",
    "from keras.preprocessing.image import ImageDataGenerator\n",
    "from keras.preprocessing.image import load_img\n",
    "from keras.preprocessing.image import img_to_array"
   ]
  },
  {
   "cell_type": "code",
   "execution_count": 2,
   "id": "f079a132-300e-4c6b-b29c-998b95ba45a1",
   "metadata": {},
   "outputs": [],
   "source": [
    "# plot diagnostic learning curves\n",
    "def summarize_diagnostics(history):\n",
    "    # plot loss\n",
    "    pyplot.subplot(211)\n",
    "    pyplot.title('Cross Entropy Loss')\n",
    "    pyplot.plot(history.history['loss'], color='blue', label='train')\n",
    "    pyplot.plot(history.history['val_loss'], color='orange', label='test')\n",
    "    # plot accuracy\n",
    "    pyplot.subplot(212)\n",
    "    pyplot.title('Classification Accuracy')\n",
    "    pyplot.plot(history.history['accuracy'], color='blue', label='train')\n",
    "    pyplot.plot(history.history['val_accuracy'], color='orange', label='test')\n",
    "    # save plot to file\n",
    "    #filename = sys.argv[0].split('/')[-1]\n",
    "    #pyplot.savefig(filename + '_plot.png')\n",
    "    #pyplot.close()\n",
    "\n",
    "# load and prepare the image\n",
    "def load_image(filename):\n",
    "    # load the image\n",
    "    img = load_img(filename, target_size=(224, 224))\n",
    "    # convert to array\n",
    "    img = img_to_array(img)\n",
    "    # reshape into a single sample with 3 channels\n",
    "    img = img.reshape(1, 224, 224, 3)\n",
    "    # center pixel data\n",
    "    img = img.astype('float32')\n",
    "    img = img - [123.68, 116.779, 103.939]\n",
    "    return img"
   ]
  },
  {
   "cell_type": "code",
   "execution_count": 37,
   "id": "3fd6a4de-91ed-4caa-ae7f-1feaeb45781f",
   "metadata": {},
   "outputs": [],
   "source": [
    "path_data_train = '../data/train/'\n",
    "path_data_val = '../data/val/'\n",
    "path_data_test = '../data/test/'\n",
    "\n",
    "path_models = '../models/final/'"
   ]
  },
  {
   "cell_type": "markdown",
   "id": "ba7f4177-e7c0-4cf5-bdbe-0cbcd273b098",
   "metadata": {},
   "source": [
    "## Create dataset iterators"
   ]
  },
  {
   "cell_type": "code",
   "execution_count": 134,
   "id": "f7797ea1-03bf-4b8d-bc3b-87fb03e0c00e",
   "metadata": {},
   "outputs": [
    {
     "name": "stdout",
     "output_type": "stream",
     "text": [
      "Found 232 images belonging to 2 classes.\n",
      "Found 72 images belonging to 2 classes.\n"
     ]
    }
   ],
   "source": [
    "# create data generator\n",
    "datagen = ImageDataGenerator(featurewise_center=True)\n",
    "\n",
    "# specify imagenet mean values for centering\n",
    "datagen.mean = [123.68, 116.779, 103.939]\n",
    "\n",
    "# prepare iterator\n",
    "train_it = datagen.flow_from_directory(path_data_train, class_mode='binary', batch_size=64, target_size=(224, 224))\n",
    "val_it = datagen.flow_from_directory(path_data_val, class_mode='binary', batch_size=64, target_size=(224, 224))\n",
    "#test_it = datagen.flow_from_directory(path_data_test, class_mode='binary', batch_size=64, target_size=(224, 224))"
   ]
  },
  {
   "cell_type": "code",
   "execution_count": 135,
   "id": "2372f265-50f8-4561-a80d-26019da82859",
   "metadata": {},
   "outputs": [
    {
     "name": "stdout",
     "output_type": "stream",
     "text": [
      "(224, 224, 3)\n",
      "{'cat': 0, 'no_cat': 1}\n",
      "rgb\n",
      "Num Class train no_cat: 207\n",
      "Num Class train cat: 25\n",
      "Num Class val no_cat: 62\n",
      "Num Class val cat: 10\n"
     ]
    }
   ],
   "source": [
    "print(train_it.image_shape)\n",
    "print(train_it.class_indices)\n",
    "print(train_it.color_mode)\n",
    "print('Num Class train no_cat: ' + str(sum(train_it.classes==1)))\n",
    "print('Num Class train cat: ' + str(sum(train_it.classes==0)))\n",
    "print('Num Class val no_cat: ' + str(sum(val_it.classes==1)))\n",
    "print('Num Class val cat: ' + str(sum(val_it.classes==0)))"
   ]
  },
  {
   "cell_type": "markdown",
   "id": "e48bed79-7097-472f-aa56-8497cadf2f98",
   "metadata": {},
   "source": [
    "## Build model"
   ]
  },
  {
   "cell_type": "code",
   "execution_count": 172,
   "id": "29634332-2786-4935-876a-130791460d9a",
   "metadata": {},
   "outputs": [],
   "source": [
    "# load model\n",
    "model = VGG16(include_top=False, input_shape=(224, 224, 3))\n",
    "\n",
    "# mark loaded layers as not trainable\n",
    "for layer in model.layers:\n",
    "    layer.trainable = False\n",
    "\n",
    "# add new classifier layers\n",
    "flat1 = Flatten()(model.layers[-1].output)\n",
    "class1 = Dense(128, activation='relu', kernel_initializer='he_uniform')(flat1)\n",
    "output = Dense(1, activation='sigmoid')(class1)\n",
    "\n",
    "# define new model\n",
    "model = Model(inputs=model.inputs, outputs=output)"
   ]
  },
  {
   "cell_type": "code",
   "execution_count": 173,
   "id": "46fddc52-1404-45a8-879a-43e2eba89a00",
   "metadata": {},
   "outputs": [],
   "source": [
    "#model.summary()"
   ]
  },
  {
   "cell_type": "code",
   "execution_count": 174,
   "id": "5f69b291-e00e-45ac-8369-19739dc0f516",
   "metadata": {},
   "outputs": [],
   "source": [
    "# compile model\n",
    "opt = SGD(lr=0.001, momentum=0.9)\n",
    "model.compile(optimizer=opt, loss='binary_crossentropy', metrics=['accuracy'])"
   ]
  },
  {
   "cell_type": "markdown",
   "id": "27ab11ac-a3c5-47e2-bf22-69d610b0e18c",
   "metadata": {},
   "source": [
    "## Train and evaluate model"
   ]
  },
  {
   "cell_type": "code",
   "execution_count": 175,
   "id": "db7642e7-f502-48b5-8b20-6b7d7c0b1037",
   "metadata": {},
   "outputs": [
    {
     "name": "stdout",
     "output_type": "stream",
     "text": [
      "Epoch 1/2\n",
      "4/4 [==============================] - 37s 10s/step - loss: 0.6850 - accuracy: 0.8320 - val_loss: 6.2293 - val_accuracy: 0.4028\n",
      "Epoch 2/2\n",
      "4/4 [==============================] - 39s 10s/step - loss: 10.9111 - accuracy: 0.6613 - val_loss: 9.1241 - val_accuracy: 0.9028\n"
     ]
    }
   ],
   "source": [
    "# fit model\n",
    "history = model.fit(train_it, steps_per_epoch=len(train_it), validation_data=val_it, validation_steps=len(val_it), epochs=2, verbose=1)"
   ]
  },
  {
   "cell_type": "code",
   "execution_count": 117,
   "id": "b6a8ad4c-6662-4e93-9072-314cad409f99",
   "metadata": {},
   "outputs": [
    {
     "name": "stdout",
     "output_type": "stream",
     "text": [
      "1/1 [==============================] - 6s 6s/step - loss: 0.4915 - accuracy: 0.9833\n"
     ]
    }
   ],
   "source": [
    "# Calculate metrics model\n",
    "eval_res = model.evaluate(val_it, steps=len(val_it), verbose=1)"
   ]
  },
  {
   "cell_type": "code",
   "execution_count": 162,
   "id": "7044571e-10b3-43c3-a9ca-1d6ae2747134",
   "metadata": {},
   "outputs": [
    {
     "data": {
      "image/png": "[encoded data removed]",
      "text/plain": [
       "<Figure size 432x288 with 2 Axes>"
      ]
     },
     "metadata": {
      "needs_background": "light"
     },
     "output_type": "display_data"
    }
   ],
   "source": [
    "# learning curves\n",
    "summarize_diagnostics(history)"
   ]
  },
  {
   "cell_type": "markdown",
   "id": "6fc555f4-7351-4a90-9a81-7c233b1408d4",
   "metadata": {},
   "source": [
    "## Save model"
   ]
  },
  {
   "cell_type": "code",
   "execution_count": 141,
   "id": "121310b6-d533-4fc8-9124-35f4f6f789a2",
   "metadata": {},
   "outputs": [
    {
     "name": "stdout",
     "output_type": "stream",
     "text": [
      "INFO:tensorflow:Assets written to: ../models/final/cat_classifier_v0_tobivscatflap/assets\n"
     ]
    }
   ],
   "source": [
    "model.save(path_models + 'cat_classifier_v0_tobivscatflap/',save_format='tf')"
   ]
  },
  {
   "cell_type": "markdown",
   "id": "8a6b6536-a710-45b0-affc-4bfa0bd3e35c",
   "metadata": {},
   "source": [
    "## Load model"
   ]
  },
  {
   "cell_type": "code",
   "execution_count": 169,
   "id": "81462fff-cbca-48c0-9de2-63dacca4600e",
   "metadata": {},
   "outputs": [],
   "source": [
    "# load model\n",
    "model = load_model(path_models + 'cat_classifier_v0_tobivscatflap/')"
   ]
  },
  {
   "cell_type": "code",
   "execution_count": 158,
   "id": "be237a4d-a290-494d-8504-cf6dff2ccf98",
   "metadata": {},
   "outputs": [],
   "source": [
    "# Set trainable layer\n",
    "for layer in model.layers:\n",
    "    layer.trainable = True\n",
    "    if layer.name not in ['dense_11']:\n",
    "        layer.trainable = False"
   ]
  },
  {
   "cell_type": "code",
   "execution_count": 159,
   "id": "6f94c073-456d-452c-bcc2-7f14c3d66771",
   "metadata": {},
   "outputs": [
    {
     "name": "stdout",
     "output_type": "stream",
     "text": [
      "Model: \"model_5\"\n",
      "_________________________________________________________________\n",
      "Layer (type)                 Output Shape              Param #   \n",
      "=================================================================\n",
      "input_6 (InputLayer)         [(None, 224, 224, 3)]     0         \n",
      "_________________________________________________________________\n",
      "block1_conv1 (Conv2D)        (None, 224, 224, 64)      1792      \n",
      "_________________________________________________________________\n",
      "block1_conv2 (Conv2D)        (None, 224, 224, 64)      36928     \n",
      "_________________________________________________________________\n",
      "block1_pool (MaxPooling2D)   (None, 112, 112, 64)      0         \n",
      "_________________________________________________________________\n",
      "block2_conv1 (Conv2D)        (None, 112, 112, 128)     73856     \n",
      "_________________________________________________________________\n",
      "block2_conv2 (Conv2D)        (None, 112, 112, 128)     147584    \n",
      "_________________________________________________________________\n",
      "block2_pool (MaxPooling2D)   (None, 56, 56, 128)       0         \n",
      "_________________________________________________________________\n",
      "block3_conv1 (Conv2D)        (None, 56, 56, 256)       295168    \n",
      "_________________________________________________________________\n",
      "block3_conv2 (Conv2D)        (None, 56, 56, 256)       590080    \n",
      "_________________________________________________________________\n",
      "block3_conv3 (Conv2D)        (None, 56, 56, 256)       590080    \n",
      "_________________________________________________________________\n",
      "block3_pool (MaxPooling2D)   (None, 28, 28, 256)       0         \n",
      "_________________________________________________________________\n",
      "block4_conv1 (Conv2D)        (None, 28, 28, 512)       1180160   \n",
      "_________________________________________________________________\n",
      "block4_conv2 (Conv2D)        (None, 28, 28, 512)       2359808   \n",
      "_________________________________________________________________\n",
      "block4_conv3 (Conv2D)        (None, 28, 28, 512)       2359808   \n",
      "_________________________________________________________________\n",
      "block4_pool (MaxPooling2D)   (None, 14, 14, 512)       0         \n",
      "_________________________________________________________________\n",
      "block5_conv1 (Conv2D)        (None, 14, 14, 512)       2359808   \n",
      "_________________________________________________________________\n",
      "block5_conv2 (Conv2D)        (None, 14, 14, 512)       2359808   \n",
      "_________________________________________________________________\n",
      "block5_conv3 (Conv2D)        (None, 14, 14, 512)       2359808   \n",
      "_________________________________________________________________\n",
      "block5_pool (MaxPooling2D)   (None, 7, 7, 512)         0         \n",
      "_________________________________________________________________\n",
      "flatten_5 (Flatten)          (None, 25088)             0         \n",
      "_________________________________________________________________\n",
      "dense_10 (Dense)             (None, 128)               3211392   \n",
      "_________________________________________________________________\n",
      "dense_11 (Dense)             (None, 1)                 129       \n",
      "=================================================================\n",
      "Total params: 17,926,209\n",
      "Trainable params: 129\n",
      "Non-trainable params: 17,926,080\n",
      "_________________________________________________________________\n"
     ]
    }
   ],
   "source": [
    "model.summary()"
   ]
  },
  {
   "cell_type": "markdown",
   "id": "87bc071c-f71e-4a40-ba45-5aa00ff9a1e0",
   "metadata": {},
   "source": [
    "## Predict on test data"
   ]
  },
  {
   "cell_type": "code",
   "execution_count": 176,
   "id": "2516aa13-7652-4575-947d-34028f5aba2d",
   "metadata": {},
   "outputs": [
    {
     "name": "stdout",
     "output_type": "stream",
     "text": [
      "{'cat': 0, 'no_cat': 1}\n",
      "Cats\n",
      "12_942623.jpg: 1.0\n",
      "20_325695.jpg: 1.0\n",
      "20_901157.jpg: 1.0\n",
      "21_476670.jpg: 0.145\n",
      "22_772459.jpg: 1.0\n",
      "30_273484.jpg: 1.0\n",
      "31_195851.jpg: 1.0\n",
      "=======\n",
      "No Cats\n",
      "16_646319.jpg: 1.0\n",
      "16_834072.jpg: 1.0\n",
      "16_978774.jpg: 1.0\n",
      "17_046927.jpg: 1.0\n",
      "17_284032.jpg: 1.0\n",
      "17_554072.jpg: 1.0\n",
      "17_586181.jpg: 1.0\n",
      "img_20210106_000819.377645.jpg: 1.0\n",
      "img_20210106_001933.811890.jpg: 1.0\n",
      "img_20210106_003734.316094.jpg: 1.0\n",
      "img_20210106_004640.384644.jpg: 1.0\n",
      "img_20210106_005031.012111.jpg: 1.0\n",
      "img_20210106_005137.891308.jpg: 1.0\n",
      "img_20210106_013905.537194.jpg: 1.0\n",
      "img_20210106_044508.210066.jpg: 1.0\n",
      "img_20210106_125622.435941.jpg: 1.0\n",
      "img_20210106_125625.939644.jpg: 1.0\n",
      "img_20210106_125654.476259.jpg: 1.0\n",
      "img_20210106_125703.478593.jpg: 1.0\n",
      "img_20210106_131053.547518.jpg: 1.0\n",
      "img_20210106_131124.379874.jpg: 1.0\n",
      "img_20210106_131152.177523.jpg: 1.0\n",
      "img_20210106_131210.179764.jpg: 1.0\n",
      "img_20210106_131228.654551.jpg: 1.0\n",
      "img_20210106_144625.291874.jpg: 1.0\n",
      "img_20210106_150302.663325.jpg: 1.0\n",
      "img_20210106_150356.967647.jpg: 1.0\n",
      "img_20210106_150550.060435.jpg: 1.0\n",
      "img_20210106_152218.455430.jpg: 1.0\n",
      "img_20210106_152500.427811.jpg: 1.0\n",
      "img_20210106_152616.344218.jpg: 1.0\n",
      "img_20210106_152739.566082.jpg: 1.0\n",
      "img_20210106_152833.088846.jpg: 1.0\n",
      "img_20210106_152937.226171.jpg: 1.0\n",
      "img_20210106_153231.186638.jpg: 1.0\n",
      "img_20210106_153455.889241.jpg: 1.0\n",
      "img_20210106_153644.197589.jpg: 1.0\n"
     ]
    }
   ],
   "source": [
    "# Predict on test data\n",
    "print(train_it.class_indices)\n",
    "print('Cats')\n",
    "test_imgs_cat = os.listdir(path_data_test + 'cat')\n",
    "test_imgs_cat.sort()\n",
    "for test_img in test_imgs_cat:\n",
    "    if test_img.endswith('.jpg'):\n",
    "        full_path = path_data_test + 'cat/' + test_img\n",
    "        img = load_image(full_path)\n",
    "        result = model.predict(img)\n",
    "        print(test_img + ': ' + str(round(result[0][0],3)))\n",
    "        \n",
    "print('=======')\n",
    "print('No Cats')\n",
    "test_imgs_nocat = os.listdir(path_data_test + 'no_cat')\n",
    "test_imgs_nocat.sort()\n",
    "for test_img in test_imgs_nocat:\n",
    "    if test_img.endswith('.jpg'):\n",
    "        full_path = path_data_test + 'no_cat/' + test_img\n",
    "        img = load_image(full_path)\n",
    "        result = model.predict(img)\n",
    "        print(test_img + ': ' + str(round(result[0][0],3)))\n"
   ]
  },
  {
   "cell_type": "code",
   "execution_count": 29,
   "id": "16fc5f87-dd71-426d-bcb5-2735c1ad6063",
   "metadata": {},
   "outputs": [],
   "source": [
    "# load the image\n",
    "#test_img_cat = load_image('../data/val/cat/cat.2501.jpg')\n",
    "test_img_cat = load_image('../data/test/cat/58_422561.jpg')\n",
    "test_img_dog = load_image('../data/val/no_cat/dog.2504.jpg')\n",
    "\n",
    "#img = load_image('../data/test/cat/img_20210106_022522.772459.jpg')#58_422561.jpg\n",
    "#img = load_image('../data/test/no_cat/06_007499.jpg')#06_007499.jpg"
   ]
  },
  {
   "cell_type": "code",
   "execution_count": 54,
   "id": "26287ff6-775a-4638-9fa0-c45a90eb3d18",
   "metadata": {},
   "outputs": [
    {
     "name": "stdout",
     "output_type": "stream",
     "text": [
      "0.0\n"
     ]
    }
   ],
   "source": [
    "# predict the class\n",
    "result = model.predict(test_img_cat)\n",
    "print(str(round(result[0][0],3)))"
   ]
  },
  {
   "cell_type": "code",
   "execution_count": 55,
   "id": "d1645ae9-c00e-4048-acb1-78953aef97d4",
   "metadata": {},
   "outputs": [
    {
     "name": "stdout",
     "output_type": "stream",
     "text": [
      "1.0\n"
     ]
    }
   ],
   "source": [
    "result = model.predict(test_img_dog)\n",
    "print(str(round(result[0][0],3)))"
   ]
  },
  {
   "cell_type": "code",
   "execution_count": null,
   "id": "1c0c2897-4d2e-4d77-95fe-32f242eae3c2",
   "metadata": {},
   "outputs": [],
   "source": []
  }
 ],
 "metadata": {
  "kernelspec": {
   "display_name": "Python 3",
   "language": "python",
   "name": "python3"
  },
  "language_info": {
   "codemirror_mode": {
    "name": "ipython",
    "version": 3
   },
   "file_extension": ".py",
   "mimetype": "text/x-python",
   "name": "python",
   "nbconvert_exporter": "python",
   "pygments_lexer": "ipython3",
   "version": "3.8.8"
  }
 },
 "nbformat": 4,
 "nbformat_minor": 5
}
